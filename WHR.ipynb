{
 "cells": [
  {
   "cell_type": "code",
   "execution_count": 39,
   "metadata": {},
   "outputs": [],
   "source": [
    "import pandas as pd\n",
    "import matplotlib.pyplot as plt\n",
    "import numpy as np\n",
    "import seaborn as sns\n",
    "from sklearn.model_selection import train_test_split\n",
    "from sklearn.preprocessing import StandardScaler\n",
    "from tensorflow.keras.models import Sequential # type: ignore\n",
    "from tensorflow.keras.layers import Dense, Dropout # type: ignore\n",
    "from tensorflow.keras.optimizers import Adam # type: ignore\n",
    "from tensorflow.keras.layers import BatchNormalization # type: ignore\n",
    "from tensorflow.keras.callbacks import EarlyStopping # type: ignore"
   ]
  },
  {
   "cell_type": "markdown",
   "metadata": {},
   "source": [
    "# Limpieza de Datos"
   ]
  },
  {
   "cell_type": "code",
   "execution_count": 2,
   "metadata": {},
   "outputs": [],
   "source": [
    "df_2015 = pd.read_csv('2015.csv')\n",
    "df_2016 = pd.read_csv('2016.csv')\n",
    "df_2017 = pd.read_csv('2017.csv')\n",
    "df_2018 = pd.read_csv('2018.csv')\n",
    "df_2019 = pd.read_csv('2019.csv')"
   ]
  },
  {
   "cell_type": "code",
   "execution_count": 3,
   "metadata": {},
   "outputs": [
    {
     "data": {
      "text/plain": [
       "Country                          0\n",
       "Region                           0\n",
       "Happiness Rank                   0\n",
       "Happiness Score                  0\n",
       "Standard Error                   0\n",
       "Economy (GDP per Capita)         0\n",
       "Family                           0\n",
       "Health (Life Expectancy)         0\n",
       "Freedom                          0\n",
       "Trust (Government Corruption)    0\n",
       "Generosity                       0\n",
       "Dystopia Residual                0\n",
       "dtype: int64"
      ]
     },
     "execution_count": 3,
     "metadata": {},
     "output_type": "execute_result"
    }
   ],
   "source": [
    "df_2015.isna().sum()"
   ]
  },
  {
   "cell_type": "code",
   "execution_count": 4,
   "metadata": {},
   "outputs": [
    {
     "data": {
      "text/plain": [
       "Country                          0\n",
       "Region                           0\n",
       "Happiness Rank                   0\n",
       "Happiness Score                  0\n",
       "Lower Confidence Interval        0\n",
       "Upper Confidence Interval        0\n",
       "Economy (GDP per Capita)         0\n",
       "Family                           0\n",
       "Health (Life Expectancy)         0\n",
       "Freedom                          0\n",
       "Trust (Government Corruption)    0\n",
       "Generosity                       0\n",
       "Dystopia Residual                0\n",
       "dtype: int64"
      ]
     },
     "execution_count": 4,
     "metadata": {},
     "output_type": "execute_result"
    }
   ],
   "source": [
    "df_2016.isna().sum()"
   ]
  },
  {
   "cell_type": "code",
   "execution_count": 5,
   "metadata": {},
   "outputs": [
    {
     "data": {
      "text/plain": [
       "Country                          0\n",
       "Happiness.Rank                   0\n",
       "Happiness.Score                  0\n",
       "Whisker.high                     0\n",
       "Whisker.low                      0\n",
       "Economy..GDP.per.Capita.         0\n",
       "Family                           0\n",
       "Health..Life.Expectancy.         0\n",
       "Freedom                          0\n",
       "Generosity                       0\n",
       "Trust..Government.Corruption.    0\n",
       "Dystopia.Residual                0\n",
       "dtype: int64"
      ]
     },
     "execution_count": 5,
     "metadata": {},
     "output_type": "execute_result"
    }
   ],
   "source": [
    "df_2017.isna().sum()"
   ]
  },
  {
   "cell_type": "code",
   "execution_count": 6,
   "metadata": {},
   "outputs": [
    {
     "data": {
      "text/plain": [
       "Overall rank                    0\n",
       "Country or region               0\n",
       "Score                           0\n",
       "GDP per capita                  0\n",
       "Social support                  0\n",
       "Healthy life expectancy         0\n",
       "Freedom to make life choices    0\n",
       "Generosity                      0\n",
       "Perceptions of corruption       1\n",
       "dtype: int64"
      ]
     },
     "execution_count": 6,
     "metadata": {},
     "output_type": "execute_result"
    }
   ],
   "source": [
    "df_2018.isna().sum()"
   ]
  },
  {
   "cell_type": "code",
   "execution_count": 7,
   "metadata": {},
   "outputs": [
    {
     "data": {
      "text/plain": [
       "Overall rank                    0\n",
       "Country or region               0\n",
       "Score                           0\n",
       "GDP per capita                  0\n",
       "Social support                  0\n",
       "Healthy life expectancy         0\n",
       "Freedom to make life choices    0\n",
       "Generosity                      0\n",
       "Perceptions of corruption       0\n",
       "dtype: int64"
      ]
     },
     "execution_count": 7,
     "metadata": {},
     "output_type": "execute_result"
    }
   ],
   "source": [
    "df_2019.isna().sum()"
   ]
  },
  {
   "cell_type": "markdown",
   "metadata": {},
   "source": [
    "El único año que contiene nulos es 2018. El resto parece estar completo."
   ]
  },
  {
   "cell_type": "code",
   "execution_count": 8,
   "metadata": {},
   "outputs": [
    {
     "data": {
      "text/html": [
       "<div>\n",
       "<style scoped>\n",
       "    .dataframe tbody tr th:only-of-type {\n",
       "        vertical-align: middle;\n",
       "    }\n",
       "\n",
       "    .dataframe tbody tr th {\n",
       "        vertical-align: top;\n",
       "    }\n",
       "\n",
       "    .dataframe thead th {\n",
       "        text-align: right;\n",
       "    }\n",
       "</style>\n",
       "<table border=\"1\" class=\"dataframe\">\n",
       "  <thead>\n",
       "    <tr style=\"text-align: right;\">\n",
       "      <th></th>\n",
       "      <th>Overall rank</th>\n",
       "      <th>Country or region</th>\n",
       "      <th>Score</th>\n",
       "      <th>GDP per capita</th>\n",
       "      <th>Social support</th>\n",
       "      <th>Healthy life expectancy</th>\n",
       "      <th>Freedom to make life choices</th>\n",
       "      <th>Generosity</th>\n",
       "      <th>Perceptions of corruption</th>\n",
       "    </tr>\n",
       "  </thead>\n",
       "  <tbody>\n",
       "    <tr>\n",
       "      <th>19</th>\n",
       "      <td>20</td>\n",
       "      <td>United Arab Emirates</td>\n",
       "      <td>6.774</td>\n",
       "      <td>2.096</td>\n",
       "      <td>0.776</td>\n",
       "      <td>0.67</td>\n",
       "      <td>0.284</td>\n",
       "      <td>0.186</td>\n",
       "      <td>NaN</td>\n",
       "    </tr>\n",
       "  </tbody>\n",
       "</table>\n",
       "</div>"
      ],
      "text/plain": [
       "    Overall rank     Country or region  Score  GDP per capita  Social support  \\\n",
       "19            20  United Arab Emirates  6.774           2.096           0.776   \n",
       "\n",
       "    Healthy life expectancy  Freedom to make life choices  Generosity  \\\n",
       "19                     0.67                         0.284       0.186   \n",
       "\n",
       "    Perceptions of corruption  \n",
       "19                        NaN  "
      ]
     },
     "execution_count": 8,
     "metadata": {},
     "output_type": "execute_result"
    }
   ],
   "source": [
    "df_2018.loc[df_2018['Perceptions of corruption'].isna()]"
   ]
  },
  {
   "cell_type": "markdown",
   "metadata": {},
   "source": [
    "Al buscar el valor faltante, se encontró que en el reporte de 2018 del World Happiness Report, Los Emiratos Árabes Unidos tienen un valor de percepción de la corrupción de 0.186, por lo que se agregó a la data faltante. Al revisar la fila a mayor detalle, se encontró que en realidad se copiaron de forma errónea todos los valores de la fila de los Emiratos Árabes Unidos, por lo que se reemplazaron los valores erróneos.  \n",
    "Fuente: https://worldhappiness.report/ed/2018/#appendices-and-data  \n",
    "Chapter 2: Online Data, Figure 2.2  \n",
    "\n",
    "Helliwell, J., Layard, R., & Sachs, J. (2018). World Happiness Report 2018, New York: Sustainable Development Solutions Network."
   ]
  },
  {
   "cell_type": "code",
   "execution_count": 9,
   "metadata": {},
   "outputs": [],
   "source": [
    "df_2018.at[19, 'GDP per capita'] = 1.467\n",
    "df_2018.at[19, 'Social support'] = 1.296\n",
    "df_2018.at[19, 'Healthy life expectancy'] = 0.776\n",
    "df_2018.at[19, 'Freedom to make life choices'] = 0.670\n",
    "df_2018.at[19, 'Generosity'] = 0.284\n",
    "df_2018.at[19, 'Perceptions of corruption'] = 0.186"
   ]
  },
  {
   "cell_type": "code",
   "execution_count": 10,
   "metadata": {},
   "outputs": [
    {
     "data": {
      "text/plain": [
       "Overall rank                                      20\n",
       "Country or region               United Arab Emirates\n",
       "Score                                          6.774\n",
       "GDP per capita                                 1.467\n",
       "Social support                                 1.296\n",
       "Healthy life expectancy                        0.776\n",
       "Freedom to make life choices                    0.67\n",
       "Generosity                                     0.284\n",
       "Perceptions of corruption                      0.186\n",
       "Name: 19, dtype: object"
      ]
     },
     "execution_count": 10,
     "metadata": {},
     "output_type": "execute_result"
    }
   ],
   "source": [
    "df_2018.loc[19]"
   ]
  },
  {
   "cell_type": "code",
   "execution_count": 11,
   "metadata": {},
   "outputs": [
    {
     "data": {
      "text/plain": [
       "Country                           object\n",
       "Region                            object\n",
       "Happiness Rank                     int64\n",
       "Happiness Score                  float64\n",
       "Standard Error                   float64\n",
       "Economy (GDP per Capita)         float64\n",
       "Family                           float64\n",
       "Health (Life Expectancy)         float64\n",
       "Freedom                          float64\n",
       "Trust (Government Corruption)    float64\n",
       "Generosity                       float64\n",
       "Dystopia Residual                float64\n",
       "dtype: object"
      ]
     },
     "execution_count": 11,
     "metadata": {},
     "output_type": "execute_result"
    }
   ],
   "source": [
    "df_2015.dtypes"
   ]
  },
  {
   "cell_type": "code",
   "execution_count": 12,
   "metadata": {},
   "outputs": [
    {
     "data": {
      "text/plain": [
       "Country                           object\n",
       "Region                            object\n",
       "Happiness Rank                     int64\n",
       "Happiness Score                  float64\n",
       "Lower Confidence Interval        float64\n",
       "Upper Confidence Interval        float64\n",
       "Economy (GDP per Capita)         float64\n",
       "Family                           float64\n",
       "Health (Life Expectancy)         float64\n",
       "Freedom                          float64\n",
       "Trust (Government Corruption)    float64\n",
       "Generosity                       float64\n",
       "Dystopia Residual                float64\n",
       "dtype: object"
      ]
     },
     "execution_count": 12,
     "metadata": {},
     "output_type": "execute_result"
    }
   ],
   "source": [
    "df_2016.dtypes"
   ]
  },
  {
   "cell_type": "code",
   "execution_count": 13,
   "metadata": {},
   "outputs": [
    {
     "data": {
      "text/plain": [
       "Country                           object\n",
       "Happiness.Rank                     int64\n",
       "Happiness.Score                  float64\n",
       "Whisker.high                     float64\n",
       "Whisker.low                      float64\n",
       "Economy..GDP.per.Capita.         float64\n",
       "Family                           float64\n",
       "Health..Life.Expectancy.         float64\n",
       "Freedom                          float64\n",
       "Generosity                       float64\n",
       "Trust..Government.Corruption.    float64\n",
       "Dystopia.Residual                float64\n",
       "dtype: object"
      ]
     },
     "execution_count": 13,
     "metadata": {},
     "output_type": "execute_result"
    }
   ],
   "source": [
    "df_2017.dtypes"
   ]
  },
  {
   "cell_type": "code",
   "execution_count": 14,
   "metadata": {},
   "outputs": [
    {
     "data": {
      "text/plain": [
       "Overall rank                      int64\n",
       "Country or region                object\n",
       "Score                           float64\n",
       "GDP per capita                  float64\n",
       "Social support                  float64\n",
       "Healthy life expectancy         float64\n",
       "Freedom to make life choices    float64\n",
       "Generosity                      float64\n",
       "Perceptions of corruption       float64\n",
       "dtype: object"
      ]
     },
     "execution_count": 14,
     "metadata": {},
     "output_type": "execute_result"
    }
   ],
   "source": [
    "df_2018.dtypes"
   ]
  },
  {
   "cell_type": "code",
   "execution_count": 15,
   "metadata": {},
   "outputs": [
    {
     "data": {
      "text/plain": [
       "Overall rank                      int64\n",
       "Country or region                object\n",
       "Score                           float64\n",
       "GDP per capita                  float64\n",
       "Social support                  float64\n",
       "Healthy life expectancy         float64\n",
       "Freedom to make life choices    float64\n",
       "Generosity                      float64\n",
       "Perceptions of corruption       float64\n",
       "dtype: object"
      ]
     },
     "execution_count": 15,
     "metadata": {},
     "output_type": "execute_result"
    }
   ],
   "source": [
    "df_2019.dtypes"
   ]
  },
  {
   "cell_type": "markdown",
   "metadata": {},
   "source": [
    "En los 5 dataframes, todas las métricas son floats, el ranking son enteros y los países son objetos (strings). Todo esto es de esperar, por lo que parece ser que los dataframes tienen la estructura y tipo de datos deseado."
   ]
  },
  {
   "cell_type": "code",
   "execution_count": 16,
   "metadata": {},
   "outputs": [
    {
     "name": "stdout",
     "output_type": "stream",
     "text": [
      "158 158\n",
      "157 157\n",
      "155 155\n",
      "156 156\n",
      "156 156\n"
     ]
    }
   ],
   "source": [
    "print(len(df_2015['Country'].unique()), len(df_2015))\n",
    "print(len(df_2016['Country'].unique()), len(df_2016))\n",
    "print(len(df_2017['Country'].unique()), len(df_2017))\n",
    "print(len(df_2018['Country or region'].unique()), len(df_2018))\n",
    "print(len(df_2019['Country or region'].unique()), len(df_2019))"
   ]
  },
  {
   "cell_type": "markdown",
   "metadata": {},
   "source": [
    "No se encontraron países repetidos en ninguno de los datasets, ya que sus valores únicos son iguales a la longitud total de los datasets."
   ]
  },
  {
   "cell_type": "code",
   "execution_count": 17,
   "metadata": {},
   "outputs": [
    {
     "name": "stdout",
     "output_type": "stream",
     "text": [
      "157 158\n",
      "154 157\n",
      "155 155\n",
      "156 156\n",
      "156 156\n"
     ]
    }
   ],
   "source": [
    "print(len(df_2015['Happiness Rank'].unique()), len(df_2015))\n",
    "print(len(df_2016['Happiness Rank'].unique()), len(df_2016))\n",
    "print(len(df_2017['Happiness.Rank'].unique()), len(df_2017))\n",
    "print(len(df_2018['Overall rank'].unique()), len(df_2018))\n",
    "print(len(df_2019['Overall rank'].unique()), len(df_2019))"
   ]
  },
  {
   "cell_type": "markdown",
   "metadata": {},
   "source": [
    "En cuanto a los rankings de felicidad, hay rankings repetidos en 2015 y 2016, por lo que es necesario revisar si se debe a un verdadero empate o un error."
   ]
  },
  {
   "cell_type": "code",
   "execution_count": 18,
   "metadata": {},
   "outputs": [
    {
     "data": {
      "text/plain": [
       "Happiness Rank\n",
       "82     2\n",
       "1      1\n",
       "110    1\n",
       "103    1\n",
       "104    1\n",
       "      ..\n",
       "54     1\n",
       "55     1\n",
       "56     1\n",
       "57     1\n",
       "158    1\n",
       "Name: count, Length: 157, dtype: int64"
      ]
     },
     "execution_count": 18,
     "metadata": {},
     "output_type": "execute_result"
    }
   ],
   "source": [
    "df_2015['Happiness Rank'].value_counts()"
   ]
  },
  {
   "cell_type": "code",
   "execution_count": 19,
   "metadata": {},
   "outputs": [
    {
     "data": {
      "text/html": [
       "<div>\n",
       "<style scoped>\n",
       "    .dataframe tbody tr th:only-of-type {\n",
       "        vertical-align: middle;\n",
       "    }\n",
       "\n",
       "    .dataframe tbody tr th {\n",
       "        vertical-align: top;\n",
       "    }\n",
       "\n",
       "    .dataframe thead th {\n",
       "        text-align: right;\n",
       "    }\n",
       "</style>\n",
       "<table border=\"1\" class=\"dataframe\">\n",
       "  <thead>\n",
       "    <tr style=\"text-align: right;\">\n",
       "      <th></th>\n",
       "      <th>Country</th>\n",
       "      <th>Region</th>\n",
       "      <th>Happiness Rank</th>\n",
       "      <th>Happiness Score</th>\n",
       "      <th>Standard Error</th>\n",
       "      <th>Economy (GDP per Capita)</th>\n",
       "      <th>Family</th>\n",
       "      <th>Health (Life Expectancy)</th>\n",
       "      <th>Freedom</th>\n",
       "      <th>Trust (Government Corruption)</th>\n",
       "      <th>Generosity</th>\n",
       "      <th>Dystopia Residual</th>\n",
       "    </tr>\n",
       "  </thead>\n",
       "  <tbody>\n",
       "    <tr>\n",
       "      <th>81</th>\n",
       "      <td>Jordan</td>\n",
       "      <td>Middle East and Northern Africa</td>\n",
       "      <td>82</td>\n",
       "      <td>5.192</td>\n",
       "      <td>0.04524</td>\n",
       "      <td>0.90198</td>\n",
       "      <td>1.05392</td>\n",
       "      <td>0.69639</td>\n",
       "      <td>0.40661</td>\n",
       "      <td>0.14293</td>\n",
       "      <td>0.11053</td>\n",
       "      <td>1.87996</td>\n",
       "    </tr>\n",
       "    <tr>\n",
       "      <th>82</th>\n",
       "      <td>Montenegro</td>\n",
       "      <td>Central and Eastern Europe</td>\n",
       "      <td>82</td>\n",
       "      <td>5.192</td>\n",
       "      <td>0.05235</td>\n",
       "      <td>0.97438</td>\n",
       "      <td>0.90557</td>\n",
       "      <td>0.72521</td>\n",
       "      <td>0.18260</td>\n",
       "      <td>0.14296</td>\n",
       "      <td>0.16140</td>\n",
       "      <td>2.10017</td>\n",
       "    </tr>\n",
       "    <tr>\n",
       "      <th>83</th>\n",
       "      <td>China</td>\n",
       "      <td>Eastern Asia</td>\n",
       "      <td>84</td>\n",
       "      <td>5.140</td>\n",
       "      <td>0.02424</td>\n",
       "      <td>0.89012</td>\n",
       "      <td>0.94675</td>\n",
       "      <td>0.81658</td>\n",
       "      <td>0.51697</td>\n",
       "      <td>0.02781</td>\n",
       "      <td>0.08185</td>\n",
       "      <td>1.86040</td>\n",
       "    </tr>\n",
       "  </tbody>\n",
       "</table>\n",
       "</div>"
      ],
      "text/plain": [
       "       Country                           Region  Happiness Rank  \\\n",
       "81      Jordan  Middle East and Northern Africa              82   \n",
       "82  Montenegro       Central and Eastern Europe              82   \n",
       "83       China                     Eastern Asia              84   \n",
       "\n",
       "    Happiness Score  Standard Error  Economy (GDP per Capita)   Family  \\\n",
       "81            5.192         0.04524                   0.90198  1.05392   \n",
       "82            5.192         0.05235                   0.97438  0.90557   \n",
       "83            5.140         0.02424                   0.89012  0.94675   \n",
       "\n",
       "    Health (Life Expectancy)  Freedom  Trust (Government Corruption)  \\\n",
       "81                   0.69639  0.40661                        0.14293   \n",
       "82                   0.72521  0.18260                        0.14296   \n",
       "83                   0.81658  0.51697                        0.02781   \n",
       "\n",
       "    Generosity  Dystopia Residual  \n",
       "81     0.11053            1.87996  \n",
       "82     0.16140            2.10017  \n",
       "83     0.08185            1.86040  "
      ]
     },
     "execution_count": 19,
     "metadata": {},
     "output_type": "execute_result"
    }
   ],
   "source": [
    "df_2015.loc[df_2015['Happiness Rank'].isin([82,83,84])]"
   ]
  },
  {
   "cell_type": "markdown",
   "metadata": {},
   "source": [
    "Al revisar en 2015, si se debe a un empate en el 'Happiness Score' de Jordania y Montenegro. Se maneja correctamente el empate, ya que el siguiente ranking sí salta de 82 a 84 (se omite 83, pues hay 2 países con 82)."
   ]
  },
  {
   "cell_type": "code",
   "execution_count": 20,
   "metadata": {},
   "outputs": [
    {
     "data": {
      "text/plain": [
       "Happiness Rank\n",
       "57     2\n",
       "34     2\n",
       "145    2\n",
       "1      1\n",
       "108    1\n",
       "      ..\n",
       "54     1\n",
       "55     1\n",
       "56     1\n",
       "59     1\n",
       "157    1\n",
       "Name: count, Length: 154, dtype: int64"
      ]
     },
     "execution_count": 20,
     "metadata": {},
     "output_type": "execute_result"
    }
   ],
   "source": [
    "df_2016['Happiness Rank'].value_counts()"
   ]
  },
  {
   "cell_type": "code",
   "execution_count": 21,
   "metadata": {},
   "outputs": [
    {
     "data": {
      "text/html": [
       "<div>\n",
       "<style scoped>\n",
       "    .dataframe tbody tr th:only-of-type {\n",
       "        vertical-align: middle;\n",
       "    }\n",
       "\n",
       "    .dataframe tbody tr th {\n",
       "        vertical-align: top;\n",
       "    }\n",
       "\n",
       "    .dataframe thead th {\n",
       "        text-align: right;\n",
       "    }\n",
       "</style>\n",
       "<table border=\"1\" class=\"dataframe\">\n",
       "  <thead>\n",
       "    <tr style=\"text-align: right;\">\n",
       "      <th></th>\n",
       "      <th>Country</th>\n",
       "      <th>Region</th>\n",
       "      <th>Happiness Rank</th>\n",
       "      <th>Happiness Score</th>\n",
       "      <th>Lower Confidence Interval</th>\n",
       "      <th>Upper Confidence Interval</th>\n",
       "      <th>Economy (GDP per Capita)</th>\n",
       "      <th>Family</th>\n",
       "      <th>Health (Life Expectancy)</th>\n",
       "      <th>Freedom</th>\n",
       "      <th>Trust (Government Corruption)</th>\n",
       "      <th>Generosity</th>\n",
       "      <th>Dystopia Residual</th>\n",
       "    </tr>\n",
       "  </thead>\n",
       "  <tbody>\n",
       "    <tr>\n",
       "      <th>33</th>\n",
       "      <td>Saudi Arabia</td>\n",
       "      <td>Middle East and Northern Africa</td>\n",
       "      <td>34</td>\n",
       "      <td>6.379</td>\n",
       "      <td>6.287</td>\n",
       "      <td>6.471</td>\n",
       "      <td>1.48953</td>\n",
       "      <td>0.84829</td>\n",
       "      <td>0.59267</td>\n",
       "      <td>0.37904</td>\n",
       "      <td>0.30008</td>\n",
       "      <td>0.15457</td>\n",
       "      <td>2.61482</td>\n",
       "    </tr>\n",
       "    <tr>\n",
       "      <th>34</th>\n",
       "      <td>Taiwan</td>\n",
       "      <td>Eastern Asia</td>\n",
       "      <td>34</td>\n",
       "      <td>6.379</td>\n",
       "      <td>6.305</td>\n",
       "      <td>6.453</td>\n",
       "      <td>1.39729</td>\n",
       "      <td>0.92624</td>\n",
       "      <td>0.79565</td>\n",
       "      <td>0.32377</td>\n",
       "      <td>0.06630</td>\n",
       "      <td>0.25495</td>\n",
       "      <td>2.61523</td>\n",
       "    </tr>\n",
       "    <tr>\n",
       "      <th>35</th>\n",
       "      <td>Qatar</td>\n",
       "      <td>Middle East and Northern Africa</td>\n",
       "      <td>36</td>\n",
       "      <td>6.375</td>\n",
       "      <td>6.178</td>\n",
       "      <td>6.572</td>\n",
       "      <td>1.82427</td>\n",
       "      <td>0.87964</td>\n",
       "      <td>0.71723</td>\n",
       "      <td>0.56679</td>\n",
       "      <td>0.48049</td>\n",
       "      <td>0.32388</td>\n",
       "      <td>1.58224</td>\n",
       "    </tr>\n",
       "    <tr>\n",
       "      <th>56</th>\n",
       "      <td>Poland</td>\n",
       "      <td>Central and Eastern Europe</td>\n",
       "      <td>57</td>\n",
       "      <td>5.835</td>\n",
       "      <td>5.749</td>\n",
       "      <td>5.921</td>\n",
       "      <td>1.24585</td>\n",
       "      <td>1.04685</td>\n",
       "      <td>0.69058</td>\n",
       "      <td>0.45190</td>\n",
       "      <td>0.05500</td>\n",
       "      <td>0.14443</td>\n",
       "      <td>2.20035</td>\n",
       "    </tr>\n",
       "    <tr>\n",
       "      <th>57</th>\n",
       "      <td>South Korea</td>\n",
       "      <td>Eastern Asia</td>\n",
       "      <td>57</td>\n",
       "      <td>5.835</td>\n",
       "      <td>5.747</td>\n",
       "      <td>5.923</td>\n",
       "      <td>1.35948</td>\n",
       "      <td>0.72194</td>\n",
       "      <td>0.88645</td>\n",
       "      <td>0.25168</td>\n",
       "      <td>0.07716</td>\n",
       "      <td>0.18824</td>\n",
       "      <td>2.35015</td>\n",
       "    </tr>\n",
       "    <tr>\n",
       "      <th>58</th>\n",
       "      <td>Bolivia</td>\n",
       "      <td>Latin America and Caribbean</td>\n",
       "      <td>59</td>\n",
       "      <td>5.822</td>\n",
       "      <td>5.740</td>\n",
       "      <td>5.904</td>\n",
       "      <td>0.79422</td>\n",
       "      <td>0.83779</td>\n",
       "      <td>0.46970</td>\n",
       "      <td>0.50961</td>\n",
       "      <td>0.07746</td>\n",
       "      <td>0.21698</td>\n",
       "      <td>2.91635</td>\n",
       "    </tr>\n",
       "    <tr>\n",
       "      <th>144</th>\n",
       "      <td>Burkina Faso</td>\n",
       "      <td>Sub-Saharan Africa</td>\n",
       "      <td>145</td>\n",
       "      <td>3.739</td>\n",
       "      <td>3.647</td>\n",
       "      <td>3.831</td>\n",
       "      <td>0.31995</td>\n",
       "      <td>0.63054</td>\n",
       "      <td>0.21297</td>\n",
       "      <td>0.33370</td>\n",
       "      <td>0.12533</td>\n",
       "      <td>0.24353</td>\n",
       "      <td>1.87319</td>\n",
       "    </tr>\n",
       "    <tr>\n",
       "      <th>145</th>\n",
       "      <td>Uganda</td>\n",
       "      <td>Sub-Saharan Africa</td>\n",
       "      <td>145</td>\n",
       "      <td>3.739</td>\n",
       "      <td>3.629</td>\n",
       "      <td>3.849</td>\n",
       "      <td>0.34719</td>\n",
       "      <td>0.90981</td>\n",
       "      <td>0.19625</td>\n",
       "      <td>0.43653</td>\n",
       "      <td>0.06442</td>\n",
       "      <td>0.27102</td>\n",
       "      <td>1.51416</td>\n",
       "    </tr>\n",
       "    <tr>\n",
       "      <th>146</th>\n",
       "      <td>Yemen</td>\n",
       "      <td>Middle East and Northern Africa</td>\n",
       "      <td>147</td>\n",
       "      <td>3.724</td>\n",
       "      <td>3.621</td>\n",
       "      <td>3.827</td>\n",
       "      <td>0.57939</td>\n",
       "      <td>0.47493</td>\n",
       "      <td>0.31048</td>\n",
       "      <td>0.22870</td>\n",
       "      <td>0.05892</td>\n",
       "      <td>0.09821</td>\n",
       "      <td>1.97295</td>\n",
       "    </tr>\n",
       "  </tbody>\n",
       "</table>\n",
       "</div>"
      ],
      "text/plain": [
       "          Country                           Region  Happiness Rank  \\\n",
       "33   Saudi Arabia  Middle East and Northern Africa              34   \n",
       "34         Taiwan                     Eastern Asia              34   \n",
       "35          Qatar  Middle East and Northern Africa              36   \n",
       "56         Poland       Central and Eastern Europe              57   \n",
       "57    South Korea                     Eastern Asia              57   \n",
       "58        Bolivia      Latin America and Caribbean              59   \n",
       "144  Burkina Faso               Sub-Saharan Africa             145   \n",
       "145        Uganda               Sub-Saharan Africa             145   \n",
       "146         Yemen  Middle East and Northern Africa             147   \n",
       "\n",
       "     Happiness Score  Lower Confidence Interval  Upper Confidence Interval  \\\n",
       "33             6.379                      6.287                      6.471   \n",
       "34             6.379                      6.305                      6.453   \n",
       "35             6.375                      6.178                      6.572   \n",
       "56             5.835                      5.749                      5.921   \n",
       "57             5.835                      5.747                      5.923   \n",
       "58             5.822                      5.740                      5.904   \n",
       "144            3.739                      3.647                      3.831   \n",
       "145            3.739                      3.629                      3.849   \n",
       "146            3.724                      3.621                      3.827   \n",
       "\n",
       "     Economy (GDP per Capita)   Family  Health (Life Expectancy)  Freedom  \\\n",
       "33                    1.48953  0.84829                   0.59267  0.37904   \n",
       "34                    1.39729  0.92624                   0.79565  0.32377   \n",
       "35                    1.82427  0.87964                   0.71723  0.56679   \n",
       "56                    1.24585  1.04685                   0.69058  0.45190   \n",
       "57                    1.35948  0.72194                   0.88645  0.25168   \n",
       "58                    0.79422  0.83779                   0.46970  0.50961   \n",
       "144                   0.31995  0.63054                   0.21297  0.33370   \n",
       "145                   0.34719  0.90981                   0.19625  0.43653   \n",
       "146                   0.57939  0.47493                   0.31048  0.22870   \n",
       "\n",
       "     Trust (Government Corruption)  Generosity  Dystopia Residual  \n",
       "33                         0.30008     0.15457            2.61482  \n",
       "34                         0.06630     0.25495            2.61523  \n",
       "35                         0.48049     0.32388            1.58224  \n",
       "56                         0.05500     0.14443            2.20035  \n",
       "57                         0.07716     0.18824            2.35015  \n",
       "58                         0.07746     0.21698            2.91635  \n",
       "144                        0.12533     0.24353            1.87319  \n",
       "145                        0.06442     0.27102            1.51416  \n",
       "146                        0.05892     0.09821            1.97295  "
      ]
     },
     "execution_count": 21,
     "metadata": {},
     "output_type": "execute_result"
    }
   ],
   "source": [
    "df_2016.loc[df_2016['Happiness Rank'].isin([57,58,59,34,35,36,145,146,147])]"
   ]
  },
  {
   "cell_type": "markdown",
   "metadata": {},
   "source": [
    "Al revisar en 2016, sí se debe a tres empates en el 'Happiness Score' de Arabia Saudita y Taiwan, Polonia y Corea del Sur, y Burkina Faso y Uganda. También hay manejo correcto de los rankings siguientes a los empates."
   ]
  },
  {
   "cell_type": "markdown",
   "metadata": {},
   "source": [
    "# EDA"
   ]
  },
  {
   "cell_type": "code",
   "execution_count": 22,
   "metadata": {},
   "outputs": [
    {
     "name": "stdout",
     "output_type": "stream",
     "text": [
      "Index(['Country', 'Region', 'Happiness Rank', 'Happiness Score',\n",
      "       'Standard Error', 'Economy (GDP per Capita)', 'Family',\n",
      "       'Health (Life Expectancy)', 'Freedom', 'Trust (Government Corruption)',\n",
      "       'Generosity', 'Dystopia Residual'],\n",
      "      dtype='object')\n",
      "Index(['Country', 'Region', 'Happiness Rank', 'Happiness Score',\n",
      "       'Lower Confidence Interval', 'Upper Confidence Interval',\n",
      "       'Economy (GDP per Capita)', 'Family', 'Health (Life Expectancy)',\n",
      "       'Freedom', 'Trust (Government Corruption)', 'Generosity',\n",
      "       'Dystopia Residual'],\n",
      "      dtype='object')\n",
      "Index(['Country', 'Happiness.Rank', 'Happiness.Score', 'Whisker.high',\n",
      "       'Whisker.low', 'Economy..GDP.per.Capita.', 'Family',\n",
      "       'Health..Life.Expectancy.', 'Freedom', 'Generosity',\n",
      "       'Trust..Government.Corruption.', 'Dystopia.Residual'],\n",
      "      dtype='object')\n",
      "Index(['Overall rank', 'Country or region', 'Score', 'GDP per capita',\n",
      "       'Social support', 'Healthy life expectancy',\n",
      "       'Freedom to make life choices', 'Generosity',\n",
      "       'Perceptions of corruption'],\n",
      "      dtype='object')\n",
      "Index(['Overall rank', 'Country or region', 'Score', 'GDP per capita',\n",
      "       'Social support', 'Healthy life expectancy',\n",
      "       'Freedom to make life choices', 'Generosity',\n",
      "       'Perceptions of corruption'],\n",
      "      dtype='object')\n"
     ]
    }
   ],
   "source": [
    "df_2015C = pd.read_csv('2015.csv')\n",
    "df_2016C = pd.read_csv('2016.csv')\n",
    "df_2017C = pd.read_csv('2017.csv')\n",
    "df_2018C = pd.read_csv('2018.csv')\n",
    "df_2019C = pd.read_csv('2019.csv')\n",
    "\n",
    "print(df_2015C.columns)\n",
    "print(df_2016C.columns)\n",
    "print(df_2017C.columns)\n",
    "print(df_2018C.columns)\n",
    "print(df_2019C.columns)"
   ]
  },
  {
   "cell_type": "markdown",
   "metadata": {},
   "source": [
    "Columnas en común entre todos los años:\n",
    "\n",
    "country,region,happiness rank, happines score,gdp,health,\n",
    "\n",
    "country\n",
    "happines rank\n",
    "happines score\n",
    "gdp\n",
    "health\n",
    "freedom\n",
    "corruption\n",
    "generosity\n",
    "2018 no tiene family y disopia residual Solo 2018 y 2019 tienen social support\n",
    "\n",
    "Solo 2016 y 2017 tienen Lower y Upper confidence interval\n",
    "\n",
    "2017,2018 y 2019 no tienen region"
   ]
  },
  {
   "cell_type": "code",
   "execution_count": 23,
   "metadata": {},
   "outputs": [],
   "source": [
    "\n",
    "dataframe_2015 = df_2015C[['Country', 'Happiness Rank', 'Happiness Score', \n",
    "                                 'Economy (GDP per Capita)', 'Health (Life Expectancy)', \n",
    "                                 'Freedom', 'Trust (Government Corruption)', 'Generosity']].copy()\n",
    "dataframe_2015.rename(columns={\n",
    "    'Economy (GDP per Capita)': 'GDP',\n",
    "    'Health (Life Expectancy)': 'Health',\n",
    "    'Trust (Government Corruption)': 'Corruption'\n",
    "}, inplace=True)\n",
    "dataframe_2015['Year'] = 2015\n",
    "\n",
    "# DataFrame 2016\n",
    "dataframe_2016 = df_2016C[['Country', 'Happiness Rank', 'Happiness Score', \n",
    "                                 'Economy (GDP per Capita)', 'Health (Life Expectancy)', \n",
    "                                 'Freedom', 'Trust (Government Corruption)', 'Generosity']].copy()\n",
    "dataframe_2016.rename(columns={\n",
    "    'Economy (GDP per Capita)': 'GDP',\n",
    "    'Health (Life Expectancy)': 'Health',\n",
    "    'Trust (Government Corruption)': 'Corruption'\n",
    "}, inplace=True)\n",
    "dataframe_2016['Year'] = 2016\n",
    "\n",
    "# DataFrame 2017\n",
    "dataframe_2017 = df_2017C[['Country', 'Happiness.Rank', 'Happiness.Score', \n",
    "                                 'Economy..GDP.per.Capita.', 'Health..Life.Expectancy.', \n",
    "                                 'Freedom', 'Trust..Government.Corruption.', 'Generosity']].copy()\n",
    "dataframe_2017.rename(columns={\n",
    "    'Happiness.Rank': 'Happiness Rank',\n",
    "    'Happiness.Score': 'Happiness Score',\n",
    "    'Economy..GDP.per.Capita.': 'GDP',\n",
    "    'Health..Life.Expectancy.': 'Health',\n",
    "    'Trust..Government.Corruption.': 'Corruption'\n",
    "}, inplace=True)\n",
    "dataframe_2017['Year'] = 2017\n",
    "\n",
    "# DataFrame 2018\n",
    "dataframe_2018 = df_2018C[['Country or region', 'Overall rank', 'Score', \n",
    "                                 'GDP per capita', 'Healthy life expectancy', \n",
    "                                 'Freedom to make life choices', 'Perceptions of corruption', 'Generosity']].copy()\n",
    "dataframe_2018.rename(columns={\n",
    "    'Country or region': 'Country',\n",
    "    'Overall rank': 'Happiness Rank',\n",
    "    'Score': 'Happiness Score',\n",
    "    'GDP per capita': 'GDP',\n",
    "    'Healthy life expectancy': 'Health',\n",
    "    'Perceptions of corruption': 'Corruption',\n",
    "    'Freedom to make life choices': 'Freedom'\n",
    "}, inplace=True)\n",
    "dataframe_2018['Year'] = 2018\n",
    "\n",
    "# DataFrame 2019\n",
    "dataframe_2019 = df_2019C[['Country or region', 'Overall rank', 'Score', \n",
    "                                 'GDP per capita', 'Healthy life expectancy', \n",
    "                                 'Freedom to make life choices', 'Perceptions of corruption', 'Generosity']].copy()\n",
    "dataframe_2019.rename(columns={\n",
    "    'Country or region': 'Country',\n",
    "    'Overall rank': 'Happiness Rank',\n",
    "    'Score': 'Happiness Score',\n",
    "    'GDP per capita': 'GDP',\n",
    "    'Healthy life expectancy': 'Health',\n",
    "    'Perceptions of corruption': 'Corruption',\n",
    "    'Freedom to make life choices': 'Freedom'\n",
    "}, inplace=True)\n",
    "dataframe_2019['Year'] = 2019"
   ]
  },
  {
   "cell_type": "code",
   "execution_count": 24,
   "metadata": {},
   "outputs": [
    {
     "name": "stdout",
     "output_type": "stream",
     "text": [
      "       Country  Happiness Rank  Happiness Score      GDP   Health  Freedom  \\\n",
      "0  Switzerland               1            7.587  1.39651  0.94143  0.66557   \n",
      "1      Iceland               2            7.561  1.30232  0.94784  0.62877   \n",
      "2      Denmark               3            7.527  1.32548  0.87464  0.64938   \n",
      "3       Norway               4            7.522  1.45900  0.88521  0.66973   \n",
      "4       Canada               5            7.427  1.32629  0.90563  0.63297   \n",
      "\n",
      "   Corruption  Generosity  Year  \n",
      "0     0.41978     0.29678  2015  \n",
      "1     0.14145     0.43630  2015  \n",
      "2     0.48357     0.34139  2015  \n",
      "3     0.36503     0.34699  2015  \n",
      "4     0.32957     0.45811  2015  \n"
     ]
    }
   ],
   "source": [
    "# Concatenar todos los DataFrames en uno solo\n",
    "df_concatenated = pd.concat([dataframe_2015, dataframe_2016, dataframe_2017, dataframe_2018, dataframe_2019], ignore_index=True)\n",
    "\n",
    "# Verificar el resultado\n",
    "print(df_concatenated.head())"
   ]
  },
  {
   "cell_type": "markdown",
   "metadata": {},
   "source": [
    "# Red Neuronal"
   ]
  },
  {
   "cell_type": "code",
   "execution_count": 60,
   "metadata": {},
   "outputs": [],
   "source": [
    "def create_model(input_dim):\n",
    "    model = Sequential([\n",
    "        Dense(64, activation='relu', input_dim=input_dim),\n",
    "        Dense(32, activation='relu'),\n",
    "        Dense(1)\n",
    "    ])\n",
    "    model.compile(optimizer=Adam(0.001), loss='mse')\n",
    "    return model"
   ]
  },
  {
   "cell_type": "code",
   "execution_count": 61,
   "metadata": {},
   "outputs": [],
   "source": [
    "def predict_happiness(df, feature_name):\n",
    "    # Preparar los datos\n",
    "    X = df[[feature_name]].values\n",
    "    y = df['Happiness Score'].values\n",
    "    \n",
    "    # Escalar los datos\n",
    "    scaler_X = StandardScaler()\n",
    "    X_scaled = scaler_X.fit_transform(X)\n",
    "    \n",
    "    # Entrenar el modelo\n",
    "    model = create_model(1)\n",
    "    model.fit(X_scaled, y, epochs=100, batch_size=32, verbose=0)\n",
    "    \n",
    "    # Crear puntos para predicción\n",
    "    X_range = np.linspace(X.min(), X.max(), 100).reshape(-1, 1)\n",
    "    X_range_scaled = scaler_X.transform(X_range)\n",
    "    \n",
    "    # Realizar predicción\n",
    "    y_pred = model.predict(X_range_scaled, verbose=0)\n",
    "    \n",
    "    return X_range.flatten(), y_pred.flatten()"
   ]
  },
  {
   "cell_type": "code",
   "execution_count": 62,
   "metadata": {},
   "outputs": [],
   "source": [
    "def plot_results(df):\n",
    "    plt.figure(figsize=(15, 5))\n",
    "    \n",
    "    # GDP vs Happiness\n",
    "    plt.subplot(1, 2, 1)\n",
    "    correlation_gdp = df['GDP'].corr(df['Happiness Score'])\n",
    "    \n",
    "    gdp_range, gdp_predictions = predict_happiness(df, 'GDP')\n",
    "    \n",
    "    plt.scatter(df['GDP'], df['Happiness Score'], alpha=0.3, color='blue', label='Datos reales')\n",
    "    plt.plot(gdp_range, gdp_predictions, 'r-', linewidth=2, label='Predicción NN')\n",
    "    plt.title(f'GDP vs Happiness Score\\nCorrelación: {correlation_gdp:.3f}')\n",
    "    plt.xlabel('GDP')\n",
    "    plt.ylabel('Happiness Score')\n",
    "    plt.legend()\n",
    "    \n",
    "    # Health vs Happiness\n",
    "    plt.subplot(1, 2, 2)\n",
    "    correlation_health = df['Health'].corr(df['Happiness Score'])\n",
    "    \n",
    "    health_range, health_predictions = predict_happiness(df, 'Health')\n",
    "    \n",
    "    plt.scatter(df['Health'], df['Happiness Score'], alpha=0.3, color='blue', label='Datos reales')\n",
    "    plt.plot(health_range, health_predictions, 'r-', linewidth=2, label='Predicción NN')\n",
    "    plt.title(f'Health vs Happiness Score\\nCorrelación: {correlation_health:.3f}')\n",
    "    plt.xlabel('Health (Life Expectancy)')\n",
    "    plt.ylabel('Happiness Score')\n",
    "    plt.legend()\n",
    "    \n",
    "    plt.tight_layout()\n",
    "    plt.show()"
   ]
  },
  {
   "cell_type": "code",
   "execution_count": 64,
   "metadata": {},
   "outputs": [
    {
     "name": "stderr",
     "output_type": "stream",
     "text": [
      "c:\\Users\\50242\\AppData\\Local\\Programs\\Python\\Python311\\Lib\\site-packages\\keras\\src\\layers\\core\\dense.py:87: UserWarning: Do not pass an `input_shape`/`input_dim` argument to a layer. When using Sequential models, prefer using an `Input(shape)` object as the first layer in the model instead.\n",
      "  super().__init__(activity_regularizer=activity_regularizer, **kwargs)\n",
      "c:\\Users\\50242\\AppData\\Local\\Programs\\Python\\Python311\\Lib\\site-packages\\keras\\src\\layers\\core\\dense.py:87: UserWarning: Do not pass an `input_shape`/`input_dim` argument to a layer. When using Sequential models, prefer using an `Input(shape)` object as the first layer in the model instead.\n",
      "  super().__init__(activity_regularizer=activity_regularizer, **kwargs)\n"
     ]
    },
    {
     "data": {
      "image/png": "[encoded data removed]",
      "text/plain": [
       "<Figure size 1500x500 with 2 Axes>"
      ]
     },
     "metadata": {},
     "output_type": "display_data"
    }
   ],
   "source": [
    "plot_results(df_concatenated)"
   ]
  }
 ],
 "metadata": {
  "kernelspec": {
   "display_name": "Python 3",
   "language": "python",
   "name": "python3"
  },
  "language_info": {
   "codemirror_mode": {
    "name": "ipython",
    "version": 3
   },
   "file_extension": ".py",
   "mimetype": "text/x-python",
   "name": "python",
   "nbconvert_exporter": "python",
   "pygments_lexer": "ipython3",
   "version": "3.11.7"
  }
 },
 "nbformat": 4,
 "nbformat_minor": 2
}
